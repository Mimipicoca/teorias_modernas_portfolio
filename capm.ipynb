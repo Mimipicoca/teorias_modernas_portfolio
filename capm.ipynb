{
 "cells": [
  {
   "cell_type": "code",
   "execution_count": 12,
   "metadata": {},
   "outputs": [],
   "source": [
    "import yfinance as yf\n",
    "import matplotlib.pyplot as plt\n",
    "import pandas as pd\n",
    "import numpy as np\n",
    "import seaborn as sns\n",
    "import statsmodels.api as sm\n",
    "\n",
    "sns.set(style = 'whitegrid')\n",
    "\n",
    "import warnings\n",
    "warnings.filterwarnings('ignore')"
   ]
  },
  {
   "cell_type": "code",
   "execution_count": 17,
   "metadata": {},
   "outputs": [
    {
     "name": "stderr",
     "output_type": "stream",
     "text": [
      "[*********************100%%**********************]  6 of 6 completed\n"
     ]
    },
    {
     "data": {
      "text/html": [
       "<div>\n",
       "<style scoped>\n",
       "    .dataframe tbody tr th:only-of-type {\n",
       "        vertical-align: middle;\n",
       "    }\n",
       "\n",
       "    .dataframe tbody tr th {\n",
       "        vertical-align: top;\n",
       "    }\n",
       "\n",
       "    .dataframe thead th {\n",
       "        text-align: right;\n",
       "    }\n",
       "</style>\n",
       "<table border=\"1\" class=\"dataframe\">\n",
       "  <thead>\n",
       "    <tr style=\"text-align: right;\">\n",
       "      <th>Ticker</th>\n",
       "      <th>BBDC4.SA</th>\n",
       "      <th>DIRR3.SA</th>\n",
       "      <th>GUAR3.SA</th>\n",
       "      <th>ITUB4.SA</th>\n",
       "      <th>JBSS3.SA</th>\n",
       "      <th>IBOV</th>\n",
       "    </tr>\n",
       "    <tr>\n",
       "      <th>Date</th>\n",
       "      <th></th>\n",
       "      <th></th>\n",
       "      <th></th>\n",
       "      <th></th>\n",
       "      <th></th>\n",
       "      <th></th>\n",
       "    </tr>\n",
       "  </thead>\n",
       "  <tbody>\n",
       "    <tr>\n",
       "      <th>2015-01-02</th>\n",
       "      <td>8.725244</td>\n",
       "      <td>4.704646</td>\n",
       "      <td>8.123262</td>\n",
       "      <td>11.964714</td>\n",
       "      <td>7.803239</td>\n",
       "      <td>48512.0</td>\n",
       "    </tr>\n",
       "    <tr>\n",
       "      <th>2015-01-05</th>\n",
       "      <td>8.743231</td>\n",
       "      <td>4.477847</td>\n",
       "      <td>7.866183</td>\n",
       "      <td>12.024843</td>\n",
       "      <td>7.840221</td>\n",
       "      <td>47517.0</td>\n",
       "    </tr>\n",
       "    <tr>\n",
       "      <th>2015-01-06</th>\n",
       "      <td>9.030851</td>\n",
       "      <td>4.349908</td>\n",
       "      <td>7.840375</td>\n",
       "      <td>12.219362</td>\n",
       "      <td>7.655311</td>\n",
       "      <td>48001.0</td>\n",
       "    </tr>\n",
       "    <tr>\n",
       "      <th>2015-01-07</th>\n",
       "      <td>9.389745</td>\n",
       "      <td>4.431324</td>\n",
       "      <td>7.984301</td>\n",
       "      <td>12.661441</td>\n",
       "      <td>7.869808</td>\n",
       "      <td>49463.0</td>\n",
       "    </tr>\n",
       "    <tr>\n",
       "      <th>2015-01-08</th>\n",
       "      <td>9.438101</td>\n",
       "      <td>4.512739</td>\n",
       "      <td>7.867176</td>\n",
       "      <td>12.859507</td>\n",
       "      <td>7.936375</td>\n",
       "      <td>49943.0</td>\n",
       "    </tr>\n",
       "  </tbody>\n",
       "</table>\n",
       "</div>"
      ],
      "text/plain": [
       "Ticker      BBDC4.SA  DIRR3.SA  GUAR3.SA   ITUB4.SA  JBSS3.SA     IBOV\n",
       "Date                                                                  \n",
       "2015-01-02  8.725244  4.704646  8.123262  11.964714  7.803239  48512.0\n",
       "2015-01-05  8.743231  4.477847  7.866183  12.024843  7.840221  47517.0\n",
       "2015-01-06  9.030851  4.349908  7.840375  12.219362  7.655311  48001.0\n",
       "2015-01-07  9.389745  4.431324  7.984301  12.661441  7.869808  49463.0\n",
       "2015-01-08  9.438101  4.512739  7.867176  12.859507  7.936375  49943.0"
      ]
     },
     "execution_count": 17,
     "metadata": {},
     "output_type": "execute_result"
    }
   ],
   "source": [
    "acoes = ['ITUB4.SA', 'BBDC4.SA', 'DIRR3.SA', 'JBSS3.SA', 'GUAR3.SA', '^BVSP']\n",
    "\n",
    "ydata = yf.download(acoes, '2015-01-01', '2019-12-31', 'id')\n",
    "dados = ydata['Adj Close']\n",
    "dados = dados.rename(columns = {'^BVSP': 'IBOV'})\n",
    "dados.head()"
   ]
  },
  {
   "cell_type": "code",
   "execution_count": 18,
   "metadata": {},
   "outputs": [
    {
     "data": {
      "text/html": [
       "<div>\n",
       "<style scoped>\n",
       "    .dataframe tbody tr th:only-of-type {\n",
       "        vertical-align: middle;\n",
       "    }\n",
       "\n",
       "    .dataframe tbody tr th {\n",
       "        vertical-align: top;\n",
       "    }\n",
       "\n",
       "    .dataframe thead th {\n",
       "        text-align: right;\n",
       "    }\n",
       "</style>\n",
       "<table border=\"1\" class=\"dataframe\">\n",
       "  <thead>\n",
       "    <tr style=\"text-align: right;\">\n",
       "      <th>Ticker</th>\n",
       "      <th>BBDC4.SA</th>\n",
       "      <th>DIRR3.SA</th>\n",
       "      <th>GUAR3.SA</th>\n",
       "      <th>ITUB4.SA</th>\n",
       "      <th>JBSS3.SA</th>\n",
       "      <th>IBOV</th>\n",
       "    </tr>\n",
       "    <tr>\n",
       "      <th>Date</th>\n",
       "      <th></th>\n",
       "      <th></th>\n",
       "      <th></th>\n",
       "      <th></th>\n",
       "      <th></th>\n",
       "      <th></th>\n",
       "    </tr>\n",
       "  </thead>\n",
       "  <tbody>\n",
       "    <tr>\n",
       "      <th>2015-01-02</th>\n",
       "      <td>0.000000</td>\n",
       "      <td>0.000000</td>\n",
       "      <td>0.000000</td>\n",
       "      <td>0.000000</td>\n",
       "      <td>0.000000</td>\n",
       "      <td>0.000000</td>\n",
       "    </tr>\n",
       "    <tr>\n",
       "      <th>2015-01-05</th>\n",
       "      <td>0.002062</td>\n",
       "      <td>-0.048208</td>\n",
       "      <td>-0.031647</td>\n",
       "      <td>0.005026</td>\n",
       "      <td>0.004739</td>\n",
       "      <td>-0.020510</td>\n",
       "    </tr>\n",
       "    <tr>\n",
       "      <th>2015-01-06</th>\n",
       "      <td>0.032896</td>\n",
       "      <td>-0.028571</td>\n",
       "      <td>-0.003281</td>\n",
       "      <td>0.016176</td>\n",
       "      <td>-0.023585</td>\n",
       "      <td>0.010186</td>\n",
       "    </tr>\n",
       "    <tr>\n",
       "      <th>2015-01-07</th>\n",
       "      <td>0.039741</td>\n",
       "      <td>0.018717</td>\n",
       "      <td>0.018357</td>\n",
       "      <td>0.036179</td>\n",
       "      <td>0.028019</td>\n",
       "      <td>0.030458</td>\n",
       "    </tr>\n",
       "    <tr>\n",
       "      <th>2015-01-08</th>\n",
       "      <td>0.005150</td>\n",
       "      <td>0.018373</td>\n",
       "      <td>-0.014669</td>\n",
       "      <td>0.015643</td>\n",
       "      <td>0.008459</td>\n",
       "      <td>0.009704</td>\n",
       "    </tr>\n",
       "  </tbody>\n",
       "</table>\n",
       "</div>"
      ],
      "text/plain": [
       "Ticker      BBDC4.SA  DIRR3.SA  GUAR3.SA  ITUB4.SA  JBSS3.SA      IBOV\n",
       "Date                                                                  \n",
       "2015-01-02  0.000000  0.000000  0.000000  0.000000  0.000000  0.000000\n",
       "2015-01-05  0.002062 -0.048208 -0.031647  0.005026  0.004739 -0.020510\n",
       "2015-01-06  0.032896 -0.028571 -0.003281  0.016176 -0.023585  0.010186\n",
       "2015-01-07  0.039741  0.018717  0.018357  0.036179  0.028019  0.030458\n",
       "2015-01-08  0.005150  0.018373 -0.014669  0.015643  0.008459  0.009704"
      ]
     },
     "execution_count": 18,
     "metadata": {},
     "output_type": "execute_result"
    }
   ],
   "source": [
    "dados = dados * 100/ dados.iloc[0]\n",
    "dados_chg = dados.pct_change()\n",
    "dados_chg.fillna(0, inplace = True)\n",
    "dados_chg.head()"
   ]
  },
  {
   "cell_type": "code",
   "execution_count": 19,
   "metadata": {},
   "outputs": [
    {
     "data": {
      "text/html": [
       "<div>\n",
       "<style scoped>\n",
       "    .dataframe tbody tr th:only-of-type {\n",
       "        vertical-align: middle;\n",
       "    }\n",
       "\n",
       "    .dataframe tbody tr th {\n",
       "        vertical-align: top;\n",
       "    }\n",
       "\n",
       "    .dataframe thead th {\n",
       "        text-align: right;\n",
       "    }\n",
       "</style>\n",
       "<table border=\"1\" class=\"dataframe\">\n",
       "  <thead>\n",
       "    <tr style=\"text-align: right;\">\n",
       "      <th>Ticker</th>\n",
       "      <th>IBOV</th>\n",
       "      <th>SELIC</th>\n",
       "    </tr>\n",
       "    <tr>\n",
       "      <th>Date</th>\n",
       "      <th></th>\n",
       "      <th></th>\n",
       "    </tr>\n",
       "  </thead>\n",
       "  <tbody>\n",
       "    <tr>\n",
       "      <th>2015-01-02</th>\n",
       "      <td>0.000000</td>\n",
       "      <td>0.00045</td>\n",
       "    </tr>\n",
       "    <tr>\n",
       "      <th>2015-01-05</th>\n",
       "      <td>-0.020510</td>\n",
       "      <td>0.00045</td>\n",
       "    </tr>\n",
       "    <tr>\n",
       "      <th>2015-01-06</th>\n",
       "      <td>0.010186</td>\n",
       "      <td>0.00045</td>\n",
       "    </tr>\n",
       "    <tr>\n",
       "      <th>2015-01-07</th>\n",
       "      <td>0.030458</td>\n",
       "      <td>0.00045</td>\n",
       "    </tr>\n",
       "    <tr>\n",
       "      <th>2015-01-08</th>\n",
       "      <td>0.009704</td>\n",
       "      <td>0.00045</td>\n",
       "    </tr>\n",
       "  </tbody>\n",
       "</table>\n",
       "</div>"
      ],
      "text/plain": [
       "Ticker          IBOV    SELIC\n",
       "Date                         \n",
       "2015-01-02  0.000000  0.00045\n",
       "2015-01-05 -0.020510  0.00045\n",
       "2015-01-06  0.010186  0.00045\n",
       "2015-01-07  0.030458  0.00045\n",
       "2015-01-08  0.009704  0.00045"
      ]
     },
     "execution_count": 19,
     "metadata": {},
     "output_type": "execute_result"
    }
   ],
   "source": [
    "# criação de dataframe com o índice de mercado dos ativos livre de risco\n",
    "\n",
    "indices_chg = dados_chg[['IBOV']]\n",
    "\n",
    "tlr_anual = 0.12 # estimativa selic\n",
    "tlr_diaria = (1 + tlr_anual)**(1/252) - 1\n",
    "indices_chg.insert(1, 'SELIC', tlr_diaria)\n",
    "indices_chg.head()"
   ]
  },
  {
   "cell_type": "code",
   "execution_count": 20,
   "metadata": {},
   "outputs": [],
   "source": [
    "dados.drop(['IBOV'], axis = 'columns', inplace = True)\n",
    "dados_chg.drop(['IBOV'], axis = 'columns', inplace = True)"
   ]
  },
  {
   "cell_type": "code",
   "execution_count": 23,
   "metadata": {},
   "outputs": [],
   "source": [
    "def calc_capm(ativo_chg, alr_chg, merc_chg): # ativo escolhido, ativo livre de risco e mercado\n",
    "\n",
    "    ativo_m_alr = ativo_chg - alr_chg\n",
    "    merc_m_alr = merc_chg - alr_chg\n",
    "\n",
    "# transformar em vetores\n",
    "    ativo_np = ativo_m_alr.to_numpy()\n",
    "    merc_np = merc_m_alr.to_numpy()\n",
    "\n",
    "# regressão linear\n",
    "    merc_np2 = sm.add_constant(merc_np)\n",
    "    model = sm.OLS(ativo_np, merc_np2)\n",
    "    res = model.fit()\n",
    "\n",
    "    return res\n"
   ]
  },
  {
   "cell_type": "code",
   "execution_count": 24,
   "metadata": {},
   "outputs": [
    {
     "name": "stdout",
     "output_type": "stream",
     "text": [
      "Alfa: 0.029 Beta: 0.946\n",
      "R2: 0.69\n"
     ]
    }
   ],
   "source": [
    "port_pesos = [0.1666, 0.1666, 0.1666, 0.1666, 0.1666]\n",
    "port = dados.dot(port_pesos).pct_change()\n",
    "port.fillna(0, inplace =  True)\n",
    "res = calc_capm(port, indices_chg['SELIC'], indices_chg['IBOV'])\n",
    "\n",
    "print(\"Alfa:\", round(res.params[0]*252, 3), \"Beta:\", round(res.params[1], 3))\n",
    "print(\"R2:\", round(res.rsquared, 2)) # R2 é o coeficiente de determinação. Quanto maior, mais próximo da reta os valores estão"
   ]
  },
  {
   "cell_type": "code",
   "execution_count": 26,
   "metadata": {},
   "outputs": [
    {
     "data": {
      "text/plain": [
       "array([0.00052617, 0.00062159, 0.00058053, 0.00048484, 0.00083566])"
      ]
     },
     "execution_count": 26,
     "metadata": {},
     "output_type": "execute_result"
    }
   ],
   "source": [
    "## Carteira com máxima utilidade - com base em dados históricos\n",
    "\n",
    "means = dados_chg.mean().to_numpy()\n",
    "rf = indices_chg['SELIC'].mean()\n",
    "means_rf = means - rf\n",
    "means_rf"
   ]
  },
  {
   "cell_type": "code",
   "execution_count": 28,
   "metadata": {},
   "outputs": [],
   "source": [
    "# Calcular cov dos retornos e transformar em matriz\n",
    "\n",
    "dados_chg.cov()\n",
    "cov_mat = dados_chg.cov().to_numpy()"
   ]
  },
  {
   "cell_type": "code",
   "execution_count": 30,
   "metadata": {},
   "outputs": [
    {
     "data": {
      "text/plain": [
       "array([0.05738504, 0.20637801, 0.31664216, 0.16595122, 0.25364357])"
      ]
     },
     "execution_count": 30,
     "metadata": {},
     "output_type": "execute_result"
    }
   ],
   "source": [
    "# Cálculo Z\n",
    "pesos_hist_z = np.matmul(np.linalg.inv(cov_mat), means_rf)\n",
    "\n",
    "# normalização para obtenção de pesos ótimos\n",
    "pesos_hist_final = pesos_hist_z/np.sum(pesos_hist_z)\n",
    "pesos_hist_final"
   ]
  },
  {
   "cell_type": "code",
   "execution_count": 31,
   "metadata": {},
   "outputs": [
    {
     "name": "stdout",
     "output_type": "stream",
     "text": [
      "Alfa: 0.04 Beta: 0.839\n",
      "R2: 0.53\n"
     ]
    }
   ],
   "source": [
    "port = dados.dot(pesos_hist_final).pct_change()\n",
    "port.fillna(0, inplace =  True)\n",
    "port\n",
    "res = calc_capm(port, indices_chg['SELIC'], indices_chg['IBOV'])\n",
    "\n",
    "print(\"Alfa:\", round(res.params[0]*252, 3), \"Beta:\", round(res.params[1], 3))\n",
    "print(\"R2:\", round(res.rsquared, 2))"
   ]
  },
  {
   "cell_type": "code",
   "execution_count": 32,
   "metadata": {},
   "outputs": [
    {
     "name": "stdout",
     "output_type": "stream",
     "text": [
      "Retorno anualizado:\n",
      " Ticker\n",
      "BBDC4.SA    0.207330\n",
      "DIRR3.SA    0.205414\n",
      "GUAR3.SA    0.218396\n",
      "ITUB4.SA    0.207749\n",
      "JBSS3.SA    0.211594\n",
      "PORT1       0.211633\n",
      "dtype: float64\n",
      "Volatilidade anualizada:\n",
      " Ticker\n",
      "BBDC4.SA    0.331644\n",
      "DIRR3.SA    0.400726\n",
      "GUAR3.SA    0.344750\n",
      "ITUB4.SA    0.297338\n",
      "JBSS3.SA    0.507458\n",
      "PORT1       0.253384\n",
      "dtype: float64\n"
     ]
    }
   ],
   "source": [
    "dados['PORT1'] = dados.dot(pesos_hist_final)\n",
    "dados_chg = dados.pct_change().fillna(0)\n",
    "\n",
    "ret_aa = ((dados.iloc[-1]/dados.iloc[0])**(1/5)) - 1\n",
    "print(\"Retorno anualizado:\\n\", ret_aa)\n",
    "\n",
    "vol_aa = dados_chg.std()*np.sqrt(252) # quanto menor a vol, melhor\n",
    "print(\"Volatilidade anualizada:\\n\", vol_aa)\n",
    "\n",
    "dados = dados.drop(['PORT1'], axis = 1)"
   ]
  },
  {
   "cell_type": "code",
   "execution_count": 35,
   "metadata": {},
   "outputs": [
    {
     "name": "stdout",
     "output_type": "stream",
     "text": [
      "Alfa: 0.021 Beta: 1.273\n",
      "Alfa: 0.085 Beta: 0.817\n",
      "Alfa: 0.091 Beta: 0.636\n",
      "Alfa: 0.021 Beta: 1.153\n",
      "Alfa: 0.145 Beta: 0.752\n"
     ]
    },
    {
     "data": {
      "text/plain": [
       "[1.273, 0.817, 0.636, 1.153, 0.752]"
      ]
     },
     "execution_count": 35,
     "metadata": {},
     "output_type": "execute_result"
    }
   ],
   "source": [
    "# carteira com máxima utilidade com CAPM, retorno ajustado ao risco de mercado\n",
    "\n",
    "betas = []\n",
    "for item in range(5):\n",
    "    vect = [0]*5\n",
    "    vect[item] = 1\n",
    "    port = dados.dot(vect).pct_change()\n",
    "    port.fillna(0, inplace = True)\n",
    "    res = calc_capm(port, indices_chg['SELIC'], indices_chg['IBOV'])\n",
    "    print(\"Alfa:\", round(res.params[0]*252, 3), \"Beta:\", round(res.params[1], 3))\n",
    "    betas.append(round(res.params[1], 3))\n",
    "\n",
    "betas"
   ]
  },
  {
   "cell_type": "code",
   "execution_count": 36,
   "metadata": {},
   "outputs": [
    {
     "data": {
      "text/plain": [
       "array([0.11336376, 0.11501044, 0.20934361, 0.44864297, 0.11363922])"
      ]
     },
     "execution_count": 36,
     "metadata": {},
     "output_type": "execute_result"
    }
   ],
   "source": [
    "# retorno estimado\n",
    "ret_capm = rf + (np.array(betas) * ((indices_chg['IBOV'].mean()) - rf))\n",
    "\n",
    "# cálculo do z\n",
    "pesos_capm_z = np.matmul(np.linalg.inv(cov_mat), ret_capm)\n",
    "\n",
    "# normalização\n",
    "pesos_capm_final = pesos_capm_z/np.sum(pesos_capm_z)\n",
    "pesos_capm_final"
   ]
  },
  {
   "cell_type": "code",
   "execution_count": 37,
   "metadata": {},
   "outputs": [
    {
     "name": "stdout",
     "output_type": "stream",
     "text": [
      "Alfa: 0.024 Beta: 0.998\n",
      "R2: 0.76\n"
     ]
    }
   ],
   "source": [
    "port = dados.dot(pesos_capm_final).pct_change()\n",
    "port.fillna(0, inplace = True)\n",
    "port\n",
    "\n",
    "res = calc_capm(port, indices_chg['SELIC'], indices_chg['IBOV'])\n",
    "print(\"Alfa:\", round(res.params[0]*252, 3), \"Beta:\", round(res.params[1], 3))\n",
    "print(\"R2:\", round(res.rsquared, 2))    "
   ]
  },
  {
   "cell_type": "code",
   "execution_count": 38,
   "metadata": {},
   "outputs": [
    {
     "name": "stdout",
     "output_type": "stream",
     "text": [
      "Retorno anualizado:\n",
      " Ticker\n",
      "BBDC4.SA    0.207330\n",
      "DIRR3.SA    0.205414\n",
      "GUAR3.SA    0.218396\n",
      "ITUB4.SA    0.207749\n",
      "JBSS3.SA    0.211594\n",
      "PORT1       0.210133\n",
      "dtype: float64\n",
      "Volatilidade anualizada:\n",
      " Ticker\n",
      "BBDC4.SA    0.331644\n",
      "DIRR3.SA    0.400726\n",
      "GUAR3.SA    0.344750\n",
      "ITUB4.SA    0.297338\n",
      "JBSS3.SA    0.507458\n",
      "PORT1       0.250460\n",
      "dtype: float64\n"
     ]
    }
   ],
   "source": [
    "dados['PORT1'] = dados.dot(pesos_capm_final)\n",
    "dados_chg = dados.pct_change().fillna(0)\n",
    "\n",
    "ret_aa = ((dados.iloc[-1]/dados.iloc[0])**(1/5)) - 1\n",
    "print(\"Retorno anualizado:\\n\", ret_aa)\n",
    "\n",
    "vol_aa = dados_chg.std()*np.sqrt(252) # quanto menor a vol, melhor\n",
    "print(\"Volatilidade anualizada:\\n\", vol_aa)\n",
    "\n",
    "dados = dados.drop(['PORT1'], axis = 1)"
   ]
  },
  {
   "cell_type": "code",
   "execution_count": null,
   "metadata": {},
   "outputs": [],
   "source": []
  }
 ],
 "metadata": {
  "kernelspec": {
   "display_name": "Python 3",
   "language": "python",
   "name": "python3"
  },
  "language_info": {
   "codemirror_mode": {
    "name": "ipython",
    "version": 3
   },
   "file_extension": ".py",
   "mimetype": "text/x-python",
   "name": "python",
   "nbconvert_exporter": "python",
   "pygments_lexer": "ipython3",
   "version": "3.12.2"
  }
 },
 "nbformat": 4,
 "nbformat_minor": 2
}
